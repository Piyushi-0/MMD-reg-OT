{
 "cells": [
  {
   "cell_type": "code",
   "execution_count": 1,
   "metadata": {},
   "outputs": [
    {
     "name": "stdout",
     "output_type": "stream",
     "text": [
      "500\n",
      "1000\n",
      "2500\n",
      "5000\n",
      "10000\n"
     ]
    }
   ],
   "source": [
    "import ot\n",
    "import numpy as np\n",
    "import torch\n",
    "from ot_mmd.mmdot import solve_apgd\n",
    "from ot_mmd.utils import get_cost_G, get_dist\n",
    "import matplotlib.pyplot as plt\n",
    "\n",
    "\n",
    "dtype = torch.float\n",
    "device = torch.device(\"cuda\")\n",
    "\n",
    "def tensor_to(tnsr):\n",
    "    return tnsr.to(device, dtype)\n",
    "\n",
    "def to_list(tnsr):\n",
    "    return [i.item() for i in tnsr]\n",
    "\n",
    "def get_samples(n, d=10):\n",
    "    torch.manual_seed(0)\n",
    "    x = tensor_to(torch.rand(2*n, d))\n",
    "    mean_x = x.mean(axis=0)\n",
    "    std_x = x.std(axis=0)\n",
    "    x = (x-mean_x)/std_x\n",
    "    x1 = x[:n]\n",
    "    x2 = x[n:]\n",
    "    return x1, x2\n",
    "\n",
    "max_iter = 1000\n",
    "lda = 1\n",
    "khp = 1\n",
    "ktype = \"rbf\"\n",
    "y_obj = \"Objective\"\n",
    "n_samples = [500, 1000, 2500, 5000, 10000]\n",
    "\n",
    "obj = []\n",
    "for n in n_samples:\n",
    "    print(n)\n",
    "    mu = tensor_to(torch.Tensor(n*[1.0/n]))\n",
    "    x1, x2 = get_samples(n)\n",
    "    C, G = get_cost_G(x1, x2, khp, ktype, p=2)\n",
    "    v = {1: mu, 2: mu}\n",
    "    _, obj_final = solve_apgd(C, G, v, max_iter, lda)\n",
    "\n",
    "    obj.append(obj_final[-1].item())\n",
    "    del C, G, mu, x1, x2, v"
   ]
  },
  {
   "cell_type": "code",
   "execution_count": 3,
   "metadata": {},
   "outputs": [
    {
     "name": "stdout",
     "output_type": "stream",
     "text": [
      "500\n",
      "1000\n",
      "2500\n",
      "5000\n",
      "10000\n"
     ]
    },
    {
     "data": {
      "text/plain": [
       "[0.07702602446079254,\n",
       " 0.06532301753759384,\n",
       " 0.05481790751218796,\n",
       " 0.05012136325240135,\n",
       " 0.04762697592377663]"
      ]
     },
     "execution_count": 3,
     "metadata": {},
     "output_type": "execute_result"
    }
   ],
   "source": [
    "def get_obj_kl(reg=0.01, reg_m=1):\n",
    "    obj = []\n",
    "    for n in n_samples:\n",
    "        print(n)\n",
    "        mu = tensor_to(torch.Tensor(n*[1.0/n]))\n",
    "        x1, x2 = get_samples(n)\n",
    "        C = get_dist(x1, x2, p=2)\n",
    "        C = C/C.max()\n",
    "        try:\n",
    "            obj.append((ot.unbalanced.sinkhorn_unbalanced2(mu, mu, C, reg=reg, reg_m=reg_m, method='sinkhorn'))) #_stabilized'))\n",
    "        except Exception as e:\n",
    "            print(e)\n",
    "            break\n",
    "        del C\n",
    "    return obj\n",
    "obj_kl = get_obj_kl()\n",
    "obj_kl_arr = [i.item() for i in obj_kl]\n",
    "obj_kl_arr"
   ]
  },
  {
   "cell_type": "code",
   "execution_count": 4,
   "metadata": {},
   "outputs": [
    {
     "data": {
      "image/png": "[encoded data removed]",
      "text/plain": [
       "<Figure size 432x288 with 1 Axes>"
      ]
     },
     "metadata": {
      "needs_background": "light"
     },
     "output_type": "display_data"
    }
   ],
   "source": [
    "plt.rcParams.update({'font.size': 14})\n",
    "\n",
    "plt.clf()\n",
    "plt.loglog(n_samples, obj, label=\"MMD-UOT\")\n",
    "plt.loglog(n_samples, obj_kl_arr, label=\"KL-UOT\")\n",
    "plt.xlabel('m')\n",
    "plt.ylabel('Objective')\n",
    "plt.legend(loc='upper right')\n",
    "plt.savefig('sc-kl-mmduot.jpg', bbox_inches = 'tight', pad_inches = 0.25)\n",
    "plt.show()"
   ]
  },
  {
   "cell_type": "code",
   "execution_count": null,
   "metadata": {},
   "outputs": [],
   "source": []
  }
 ],
 "metadata": {
  "kernelspec": {
   "display_name": "main_phd",
   "language": "python",
   "name": "python3"
  },
  "language_info": {
   "codemirror_mode": {
    "name": "ipython",
    "version": 3
   },
   "file_extension": ".py",
   "mimetype": "text/x-python",
   "name": "python",
   "nbconvert_exporter": "python",
   "pygments_lexer": "ipython3",
   "version": "3.9.12"
  },
  "orig_nbformat": 4,
  "vscode": {
   "interpreter": {
    "hash": "c3d680260d6014bb8937807d07766c52e3de9a29136c40f6e77d246151ac2f0c"
   }
  }
 },
 "nbformat": 4,
 "nbformat_minor": 2
}
